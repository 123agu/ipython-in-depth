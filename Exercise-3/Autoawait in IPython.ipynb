{
 "cells": [
  {
   "cell_type": "markdown",
   "metadata": {},
   "source": [
    "# IPython advance features: "
   ]
  },
  {
   "cell_type": "markdown",
   "metadata": {},
   "source": [
    "A quick primer on `async`/`await`. Async and await are relatively new features in Python which allow **concurent** programming. They won't make your code magically faster, but may make your code easier to read, maintain and reason about. \n",
    "You will likely hear the terms event-loop, coroutines and many other ones, they will make sens in time. \n",
    "\n",
    "The key thing to remember is that \n",
    " - async-functions can call both sync and async functions.\n",
    " - sync functions can only call sync. \n",
    " - You _must_ always `await <async functions>`\n"
   ]
  },
  {
   "cell_type": "markdown",
   "metadata": {},
   "source": [
    "## Event loop\n",
    "\n",
    "It's like the \"One ring\", there shoudl be only one. IPython (and Jupyter) usually already run one.\n",
    "\n",
    "### Bad news\n",
    "If you need to run any code that need to create and manage an event-loop, consult the docs. \n",
    "Typically you can't run a tornado app inside jupyter.\n",
    "\n",
    "### Good news\n",
    "\n",
    "If you don't know/don't care, all is already setup for you. \n",
    "\n"
   ]
  },
  {
   "cell_type": "code",
   "execution_count": 9,
   "metadata": {},
   "outputs": [],
   "source": [
    "## Example"
   ]
  },
  {
   "cell_type": "markdown",
   "metadata": {},
   "source": [
    "Let's deactivate enventloop integration and try what is (usually invalid Python)"
   ]
  },
  {
   "cell_type": "code",
   "execution_count": 10,
   "metadata": {},
   "outputs": [],
   "source": [
    "%autoawait False"
   ]
  },
  {
   "cell_type": "code",
   "execution_count": 11,
   "metadata": {},
   "outputs": [],
   "source": [
    "from asyncio import sleep"
   ]
  },
  {
   "cell_type": "code",
   "execution_count": 13,
   "metadata": {},
   "outputs": [
    {
     "data": {
      "text/plain": [
       "<coroutine object sleep at 0x11250e6c8>"
      ]
     },
     "execution_count": 13,
     "metadata": {},
     "output_type": "execute_result"
    }
   ],
   "source": [
    "# does not sleep, need to be awaited\n",
    "sleep(5)"
   ]
  },
  {
   "cell_type": "code",
   "execution_count": 14,
   "metadata": {},
   "outputs": [
    {
     "ename": "SyntaxError",
     "evalue": "'await' outside function (<ipython-input-14-920ac5bc3075>, line 1)",
     "output_type": "error",
     "traceback": [
      "\u001b[0;36m  File \u001b[0;32m\"<ipython-input-14-920ac5bc3075>\"\u001b[0;36m, line \u001b[0;32m1\u001b[0m\n\u001b[0;31m    await sleep(5)\u001b[0m\n\u001b[0m                  ^\u001b[0m\n\u001b[0;31mSyntaxError\u001b[0m\u001b[0;31m:\u001b[0m 'await' outside function\n"
     ]
    }
   ],
   "source": [
    "await sleep(5)"
   ]
  },
  {
   "cell_type": "code",
   "execution_count": 15,
   "metadata": {},
   "outputs": [
    {
     "ename": "SyntaxError",
     "evalue": "'await' outside async function (<ipython-input-15-8c14fef35f4f>, line 2)",
     "output_type": "error",
     "traceback": [
      "\u001b[0;36m  File \u001b[0;32m\"<ipython-input-15-8c14fef35f4f>\"\u001b[0;36m, line \u001b[0;32m2\u001b[0m\n\u001b[0;31m    await sleep(5)\u001b[0m\n\u001b[0m    ^\u001b[0m\n\u001b[0;31mSyntaxError\u001b[0m\u001b[0;31m:\u001b[0m 'await' outside async function\n"
     ]
    }
   ],
   "source": [
    "def f():\n",
    "    await sleep(5)\n",
    "f()"
   ]
  },
  {
   "cell_type": "code",
   "execution_count": 17,
   "metadata": {},
   "outputs": [
    {
     "data": {
      "text/plain": [
       "<coroutine object f at 0x11250e948>"
      ]
     },
     "execution_count": 17,
     "metadata": {},
     "output_type": "execute_result"
    }
   ],
   "source": [
    "async def f():\n",
    "    print('before...')\n",
    "    await sleep(5)\n",
    "    print('after')\n",
    "### does not call f\n",
    "f()"
   ]
  },
  {
   "cell_type": "code",
   "execution_count": 18,
   "metadata": {},
   "outputs": [
    {
     "ename": "SyntaxError",
     "evalue": "'await' outside function (<ipython-input-18-9fe41d264da1>, line 1)",
     "output_type": "error",
     "traceback": [
      "\u001b[0;36m  File \u001b[0;32m\"<ipython-input-18-9fe41d264da1>\"\u001b[0;36m, line \u001b[0;32m1\u001b[0m\n\u001b[0;31m    await f()\u001b[0m\n\u001b[0m             ^\u001b[0m\n\u001b[0;31mSyntaxError\u001b[0m\u001b[0;31m:\u001b[0m 'await' outside function\n"
     ]
    }
   ],
   "source": [
    "await f()"
   ]
  },
  {
   "cell_type": "markdown",
   "metadata": {},
   "source": [
    "... back to step beginning. "
   ]
  },
  {
   "cell_type": "markdown",
   "metadata": {},
   "source": [
    "## Autoawait"
   ]
  },
  {
   "cell_type": "markdown",
   "metadata": {},
   "source": [
    "Autoawait will _attempt_ to detect async code and run it for you. There are of course limitations (bug report welcome)"
   ]
  },
  {
   "cell_type": "code",
   "execution_count": 62,
   "metadata": {},
   "outputs": [],
   "source": [
    "%autoawait True"
   ]
  },
  {
   "cell_type": "code",
   "execution_count": 63,
   "metadata": {},
   "outputs": [
    {
     "name": "stdout",
     "output_type": "stream",
     "text": [
      "before\n",
      "after\n"
     ]
    }
   ],
   "source": [
    "print('before')\n",
    "await sleep(5)\n",
    "print('after')"
   ]
  },
  {
   "cell_type": "markdown",
   "metadata": {},
   "source": [
    "Top level await is now valid syntax. "
   ]
  },
  {
   "cell_type": "code",
   "execution_count": 3,
   "metadata": {},
   "outputs": [],
   "source": [
    "tpl = 'https://anapioficeandfire.com/api/characters/{}'"
   ]
  },
  {
   "cell_type": "code",
   "execution_count": 16,
   "metadata": {},
   "outputs": [
    {
     "name": "stdout",
     "output_type": "stream",
     "text": [
      ".x.x.x.x.x.x.x.x.x.x.x.x.x.x.x.x.x.x.x.x.x.x.x.x.x.x.x.x.x.x.x.x.x.x.x.x.x.x.x.x.x.x.x.x.x.x.x.x.x['The Daughter of the Dusk']\n",
      "['Hodor']\n",
      "['Lamprey']\n",
      "['The Merling Queen']\n",
      "['Old Crackbones']\n",
      "['The Poetess']\n",
      "['Porridge']\n",
      "['Quickfinger']\n",
      "[\"the Sailor's Wife\"]\n",
      "['The Veiled Lady']\n",
      "['The waif']\n",
      "['Balon the Brave', 'Balon the Blessed', 'Balon the Twice Crowned', 'Balon the Widowmaker', 'The Kraken King']\n",
      "['']\n",
      "['']\n",
      "['The High Sparrow']\n",
      "['The Little Queen', 'The Little Rose', 'Maid Margaery']\n",
      "['']\n",
      "['']\n",
      "['']\n",
      "['']\n",
      "['']\n",
      "['']\n",
      "['']\n",
      "['']\n",
      "['']\n",
      "['']\n",
      "['The Lion of Lannister', 'The Old Lion', 'The Great Lion of the Rock']\n",
      "['']\n",
      "['']\n",
      "['']\n",
      "['']\n",
      "['']\n",
      "['Addam of Hull']\n",
      "['The Bastard of Cornfield']\n",
      "['']\n",
      "['Jinglebell']\n",
      "['Aegon Bloodborn']\n",
      "['Aegon the Conqueror', 'Aegon the Dragon', 'Aegon the Dragonlord']\n",
      "['Aegon the Elder', 'Aegon the Usurper']\n",
      "['Aegon the Younger', 'Aegon the Dragonbane', 'Aegon the Unlucky', 'The Broken King']\n",
      "['Aegon the Unworthy']\n",
      "['Young Griff']\n",
      "['']\n",
      "['']\n",
      "['']\n",
      "['Aegon the Unlikely', 'Aegon the Fortunate', 'The Prince Who Was An Eggg']\n",
      "['Bittersteel']\n",
      "['']\n",
      "['']\n",
      "CPU times: user 1.29 s, sys: 81.2 ms, total: 1.37 s\n",
      "Wall time: 3.79 s\n"
     ]
    }
   ],
   "source": [
    "%%time\n",
    "\n",
    "results = []\n",
    "for i in range(1,50):\n",
    "    import requests\n",
    "    print('.', end='')\n",
    "    r = requests.get(tpl.format(i)).json()['aliases']\n",
    "    print('x', end='')\n",
    "    results.append(r)\n",
    "    \n",
    "for r in results:\n",
    "    print(r)"
   ]
  },
  {
   "cell_type": "markdown",
   "metadata": {},
   "source": [
    "# moving to asynchronous"
   ]
  },
  {
   "cell_type": "code",
   "execution_count": 17,
   "metadata": {},
   "outputs": [],
   "source": [
    "import aiohttp"
   ]
  },
  {
   "cell_type": "code",
   "execution_count": 18,
   "metadata": {},
   "outputs": [
    {
     "name": "stdout",
     "output_type": "stream",
     "text": [
      "['Lord Snow', \"Ned Stark's Bastard\", 'The Snow of Winterfell', 'The Crow-Come-Over', \"The 998th Lord Commander of the Night's Watch\", 'The Bastard of Winterfell', 'The Black Bastard of the Wall', 'Lord Crow']\n"
     ]
    }
   ],
   "source": [
    "async with aiohttp.ClientSession() as session:\n",
    "    response = await session.get(tpl.format(583))\n",
    "    json = await response.json()\n",
    "    print(json['aliases'])"
   ]
  },
  {
   "cell_type": "code",
   "execution_count": 34,
   "metadata": {},
   "outputs": [],
   "source": [
    "async def get_char(i, session):\n",
    "        print('.', end='')\n",
    "        response = await session.get(tpl.format(i))\n",
    "        json = await response.json()\n",
    "        print('x', end='')\n",
    "        return json['aliases']"
   ]
  },
  {
   "cell_type": "code",
   "execution_count": 35,
   "metadata": {},
   "outputs": [
    {
     "name": "stdout",
     "output_type": "stream",
     "text": [
      ".x['Dany', 'Daenerys Stormborn', 'The Unburnt', 'Mother of Dragons', 'Mother', 'Mhysa', 'The Silver Queen', 'Silver Lady', 'Dragonmother', 'The Dragon Queen', \"The Mad King's daughter\"]\n"
     ]
    }
   ],
   "source": [
    "async with aiohttp.ClientSession() as s:\n",
    "    print(await get_char(1303, s))"
   ]
  },
  {
   "cell_type": "code",
   "execution_count": 36,
   "metadata": {},
   "outputs": [],
   "source": [
    "tasks = []"
   ]
  },
  {
   "cell_type": "code",
   "execution_count": 37,
   "metadata": {},
   "outputs": [
    {
     "name": "stdout",
     "output_type": "stream",
     "text": [
      ".................................................xxxxxxxxxxxxxxxxxxxxxxxxxxxxxxxxxxxxxxxxxxxxxxxxx['The Daughter of the Dusk']\n",
      "['Hodor']\n",
      "['Lamprey']\n",
      "['The Merling Queen']\n",
      "['Old Crackbones']\n",
      "['The Poetess']\n",
      "['Porridge']\n",
      "['Quickfinger']\n",
      "[\"the Sailor's Wife\"]\n",
      "['The Veiled Lady']\n",
      "['The waif']\n",
      "['Balon the Brave', 'Balon the Blessed', 'Balon the Twice Crowned', 'Balon the Widowmaker', 'The Kraken King']\n",
      "['']\n",
      "['']\n",
      "['The High Sparrow']\n",
      "['The Little Queen', 'The Little Rose', 'Maid Margaery']\n",
      "['']\n",
      "['']\n",
      "['']\n",
      "['']\n",
      "['']\n",
      "['']\n",
      "['']\n",
      "['']\n",
      "['']\n",
      "['']\n",
      "['The Lion of Lannister', 'The Old Lion', 'The Great Lion of the Rock']\n",
      "['']\n",
      "['']\n",
      "['']\n",
      "['']\n",
      "['']\n",
      "['Addam of Hull']\n",
      "['The Bastard of Cornfield']\n",
      "['']\n",
      "['Jinglebell']\n",
      "['Aegon Bloodborn']\n",
      "['Aegon the Conqueror', 'Aegon the Dragon', 'Aegon the Dragonlord']\n",
      "['Aegon the Elder', 'Aegon the Usurper']\n",
      "['Aegon the Younger', 'Aegon the Dragonbane', 'Aegon the Unlucky', 'The Broken King']\n",
      "['Aegon the Unworthy']\n",
      "['Young Griff']\n",
      "['']\n",
      "['']\n",
      "['']\n",
      "['Aegon the Unlikely', 'Aegon the Fortunate', 'The Prince Who Was An Eggg']\n",
      "['Bittersteel']\n",
      "['']\n",
      "['']\n"
     ]
    }
   ],
   "source": [
    "import asyncio\n",
    "async with aiohttp.ClientSession() as session:\n",
    "    # start \n",
    "    for i in range(1,50):\n",
    "        task = asyncio.ensure_future(get_char(i, session))\n",
    "        tasks.append(task)\n",
    "    results = await asyncio.gather(*tasks)\n",
    "    for r in results:\n",
    "        print(r)"
   ]
  },
  {
   "cell_type": "code",
   "execution_count": null,
   "metadata": {},
   "outputs": [],
   "source": []
  },
  {
   "cell_type": "code",
   "execution_count": null,
   "metadata": {},
   "outputs": [],
   "source": []
  }
 ],
 "metadata": {
  "kernelspec": {
   "display_name": "Python 3",
   "language": "python",
   "name": "python3"
  },
  "language_info": {
   "codemirror_mode": {
    "name": "ipython",
    "version": 3
   },
   "file_extension": ".py",
   "mimetype": "text/x-python",
   "name": "python",
   "nbconvert_exporter": "python",
   "pygments_lexer": "ipython3",
   "version": "3.7.3"
  }
 },
 "nbformat": 4,
 "nbformat_minor": 2
}
